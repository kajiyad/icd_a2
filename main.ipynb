{
 "metadata": {
  "language_info": {
   "codemirror_mode": {
    "name": "ipython",
    "version": 3
   },
   "file_extension": ".py",
   "mimetype": "text/x-python",
   "name": "python",
   "nbconvert_exporter": "python",
   "pygments_lexer": "ipython3",
   "version": "3.6.8"
  },
  "orig_nbformat": 4,
  "kernelspec": {
   "name": "python3",
   "display_name": "Python 3.6.8 64-bit"
  },
  "interpreter": {
   "hash": "aee8b7b246df8f9039afb4144a1f6fd8d2ca17a180786b69acc140d282b71a49"
  }
 },
 "nbformat": 4,
 "nbformat_minor": 2,
 "cells": [
  {
   "source": [
    "# A2 - Introdução à Ciência de Dados¶\n",
    "\n",
    "Análise de dados de uma base de hotéis na Europa com 120 entradas.\n",
    "\n",
    "As perguntas que analisaremos serão:\n",
    "\n",
    "1. Qual a média de preço\n",
    "2. Notas são consistentes entre as cidades?\n",
    "3. Classificações mais altas resultam em notas mais altas?"
   ],
   "cell_type": "markdown",
   "metadata": {}
  },
  {
   "source": [
    "## Preparação da Base\n",
    "\n"
   ],
   "cell_type": "markdown",
   "metadata": {}
  },
  {
   "source": [
    "### Bibliotecas"
   ],
   "cell_type": "markdown",
   "metadata": {}
  },
  {
   "cell_type": "code",
   "execution_count": 6,
   "metadata": {},
   "outputs": [],
   "source": [
    "import pandas as pd\n",
    "import matplotlib.pyplot as plt"
   ]
  },
  {
   "source": [
    "### Base"
   ],
   "cell_type": "markdown",
   "metadata": {}
  },
  {
   "cell_type": "code",
   "execution_count": 12,
   "metadata": {},
   "outputs": [
    {
     "output_type": "execute_result",
     "data": {
      "text/plain": [
       "      ID           Hotel name  Price(BAM)  Hotel star rating  Distance  \\\n",
       "0      1               Europe         139                  5       350   \n",
       "1      2               Europe         187                  5       350   \n",
       "2      3                Hills         255                  5     10000   \n",
       "3      4                Hills         141                  5     10000   \n",
       "4      5             Boutique         117                  4       450   \n",
       "..   ...                  ...         ...                ...       ...   \n",
       "115  116            WUD Hotel         121                  3      3200   \n",
       "116  117               uHotel         161                  4       250   \n",
       "117  118        Allegro Hotel         106                  4       550   \n",
       "118  119              M Hotel         123                  4      2400   \n",
       "119  120  Austria Trend Hotel         137                  4      3500   \n",
       "\n",
       "     Customer rating  Rooms  Squares       City  \n",
       "0                8.3      1       25   Sarajevo  \n",
       "1                8.3      2       40   Sarajevo  \n",
       "2                8.5      3       42   Sarajevo  \n",
       "3                8.5      2       42   Sarajevo  \n",
       "4                8.7      1       15   Sarajevo  \n",
       "..               ...    ...      ...        ...  \n",
       "115              8.9      2       40  Ljubljana  \n",
       "116              9.0      1       28  Ljubljana  \n",
       "117              8.5      1       35  Ljubljana  \n",
       "118              8.4      1       31  Ljubljana  \n",
       "119              8.8      1       34  Ljubljana  \n",
       "\n",
       "[120 rows x 9 columns]"
      ],
      "text/html": "<div>\n<style scoped>\n    .dataframe tbody tr th:only-of-type {\n        vertical-align: middle;\n    }\n\n    .dataframe tbody tr th {\n        vertical-align: top;\n    }\n\n    .dataframe thead th {\n        text-align: right;\n    }\n</style>\n<table border=\"1\" class=\"dataframe\">\n  <thead>\n    <tr style=\"text-align: right;\">\n      <th></th>\n      <th>ID</th>\n      <th>Hotel name</th>\n      <th>Price(BAM)</th>\n      <th>Hotel star rating</th>\n      <th>Distance</th>\n      <th>Customer rating</th>\n      <th>Rooms</th>\n      <th>Squares</th>\n      <th>City</th>\n    </tr>\n  </thead>\n  <tbody>\n    <tr>\n      <th>0</th>\n      <td>1</td>\n      <td>Europe</td>\n      <td>139</td>\n      <td>5</td>\n      <td>350</td>\n      <td>8.3</td>\n      <td>1</td>\n      <td>25</td>\n      <td>Sarajevo</td>\n    </tr>\n    <tr>\n      <th>1</th>\n      <td>2</td>\n      <td>Europe</td>\n      <td>187</td>\n      <td>5</td>\n      <td>350</td>\n      <td>8.3</td>\n      <td>2</td>\n      <td>40</td>\n      <td>Sarajevo</td>\n    </tr>\n    <tr>\n      <th>2</th>\n      <td>3</td>\n      <td>Hills</td>\n      <td>255</td>\n      <td>5</td>\n      <td>10000</td>\n      <td>8.5</td>\n      <td>3</td>\n      <td>42</td>\n      <td>Sarajevo</td>\n    </tr>\n    <tr>\n      <th>3</th>\n      <td>4</td>\n      <td>Hills</td>\n      <td>141</td>\n      <td>5</td>\n      <td>10000</td>\n      <td>8.5</td>\n      <td>2</td>\n      <td>42</td>\n      <td>Sarajevo</td>\n    </tr>\n    <tr>\n      <th>4</th>\n      <td>5</td>\n      <td>Boutique</td>\n      <td>117</td>\n      <td>4</td>\n      <td>450</td>\n      <td>8.7</td>\n      <td>1</td>\n      <td>15</td>\n      <td>Sarajevo</td>\n    </tr>\n    <tr>\n      <th>...</th>\n      <td>...</td>\n      <td>...</td>\n      <td>...</td>\n      <td>...</td>\n      <td>...</td>\n      <td>...</td>\n      <td>...</td>\n      <td>...</td>\n      <td>...</td>\n    </tr>\n    <tr>\n      <th>115</th>\n      <td>116</td>\n      <td>WUD Hotel</td>\n      <td>121</td>\n      <td>3</td>\n      <td>3200</td>\n      <td>8.9</td>\n      <td>2</td>\n      <td>40</td>\n      <td>Ljubljana</td>\n    </tr>\n    <tr>\n      <th>116</th>\n      <td>117</td>\n      <td>uHotel</td>\n      <td>161</td>\n      <td>4</td>\n      <td>250</td>\n      <td>9.0</td>\n      <td>1</td>\n      <td>28</td>\n      <td>Ljubljana</td>\n    </tr>\n    <tr>\n      <th>117</th>\n      <td>118</td>\n      <td>Allegro Hotel</td>\n      <td>106</td>\n      <td>4</td>\n      <td>550</td>\n      <td>8.5</td>\n      <td>1</td>\n      <td>35</td>\n      <td>Ljubljana</td>\n    </tr>\n    <tr>\n      <th>118</th>\n      <td>119</td>\n      <td>M Hotel</td>\n      <td>123</td>\n      <td>4</td>\n      <td>2400</td>\n      <td>8.4</td>\n      <td>1</td>\n      <td>31</td>\n      <td>Ljubljana</td>\n    </tr>\n    <tr>\n      <th>119</th>\n      <td>120</td>\n      <td>Austria Trend Hotel</td>\n      <td>137</td>\n      <td>4</td>\n      <td>3500</td>\n      <td>8.8</td>\n      <td>1</td>\n      <td>34</td>\n      <td>Ljubljana</td>\n    </tr>\n  </tbody>\n</table>\n<p>120 rows × 9 columns</p>\n</div>"
     },
     "metadata": {},
     "execution_count": 12
    }
   ],
   "source": [
    "data = pd.read_excel(\"Hotels.xlsx\", engine='openpyxl')\n",
    "data"
   ]
  },
  {
   "source": [
    "## Qual a média de preço?"
   ],
   "cell_type": "markdown",
   "metadata": {}
  },
  {
   "source": [
    "## Notas são consistentes entre as cidades?"
   ],
   "cell_type": "markdown",
   "metadata": {}
  },
  {
   "source": [
    "## Classificações mais altas resultam em notas mais altas?"
   ],
   "cell_type": "markdown",
   "metadata": {}
  }
 ]
}
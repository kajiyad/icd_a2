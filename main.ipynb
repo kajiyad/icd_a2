{
 "metadata": {
  "language_info": {
   "codemirror_mode": {
    "name": "ipython",
    "version": 3
   },
   "file_extension": ".py",
   "mimetype": "text/x-python",
   "name": "python",
   "nbconvert_exporter": "python",
   "pygments_lexer": "ipython3",
   "version": 3
  },
  "orig_nbformat": 4
 },
 "nbformat": 4,
 "nbformat_minor": 2,
 "cells": [
  {
   "source": [
    "# A2 - Introdução à Ciência de Dados¶\n",
    "\n",
    "Análise de dados de uma base de hotéis na Europa com 120 entradas.\n",
    "\n",
    "As perguntas que analisaremos serão:\n",
    "\n",
    "1. Qual a média de preço\n",
    "2. Notas são consistentes entre as cidades?\n",
    "3. Classificações mais altas resultam em notas mais altas?"
   ],
   "cell_type": "markdown",
   "metadata": {}
  },
  {
   "source": [
    "### Preparação das Bibliotecas\n",
    "\n"
   ],
   "cell_type": "markdown",
   "metadata": {}
  },
  {
   "cell_type": "code",
   "execution_count": null,
   "metadata": {},
   "outputs": [],
   "source": [
    "import pandas as pd\n",
    "import matplotlib.pyplot as plt"
   ]
  }
 ]
}